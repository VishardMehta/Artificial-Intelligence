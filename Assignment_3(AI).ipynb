{
  "nbformat": 4,
  "nbformat_minor": 0,
  "metadata": {
    "colab": {
      "provenance": []
    },
    "kernelspec": {
      "name": "python3",
      "display_name": "Python 3"
    },
    "language_info": {
      "name": "python"
    }
  },
  "cells": [
    {
      "cell_type": "code",
      "execution_count": null,
      "metadata": {
        "colab": {
          "base_uri": "https://localhost:8080/"
        },
        "id": "FkSqGZgqZCeB",
        "outputId": "9b3b70b7-fe19-4f30-8a54-57a55aab8907"
      },
      "outputs": [
        {
          "output_type": "stream",
          "name": "stdout",
          "text": [
            "(('A',), ('B', 'C'), ())\n",
            "((), ('B', 'C'), ('A',))\n",
            "(('C',), ('B',), ('A',))\n",
            "(('C',), (), ('A', 'B'))\n",
            "((), (), ('A', 'B', 'C'))\n"
          ]
        }
      ],
      "source": [
        "from collections import deque\n",
        "\n",
        "class BlockWorld:\n",
        "    def __init__(self, start, goal):\n",
        "        self.start, self.goal = start, goal\n",
        "\n",
        "    def is_goal(self, state):\n",
        "        return state == self.goal\n",
        "\n",
        "    def get_moves(self, state):\n",
        "        moves = []\n",
        "        for i, stack in enumerate(state):\n",
        "            if stack:\n",
        "                new_state = [list(s) for s in state]\n",
        "                block = new_state[i].pop()\n",
        "                for j in range(len(state)):\n",
        "                    if i != j:\n",
        "                        temp = [list(s) for s in new_state]\n",
        "                        temp[j].append(block)\n",
        "                        moves.append(tuple(map(tuple, temp)))\n",
        "        return moves\n",
        "\n",
        "    def bfs(self):\n",
        "        q = deque([(self.start, [])])\n",
        "        seen = set()\n",
        "\n",
        "        while q:\n",
        "            state, path = q.popleft()\n",
        "            if self.is_goal(state):\n",
        "                return path + [state]\n",
        "\n",
        "            seen.add(state)\n",
        "            for move in self.get_moves(state):\n",
        "                if move not in seen:\n",
        "                    q.append((move, path + [state]))\n",
        "        return None\n",
        "\n",
        "start = (('A',), ('B', 'C'), ())\n",
        "goal = ((), (), ('A', 'B', 'C'))\n",
        "\n",
        "solver = BlockWorld(start, goal)\n",
        "res = solver.bfs()\n",
        "\n",
        "if res:\n",
        "    for step in res:\n",
        "        print(step)\n",
        "else:\n",
        "    print(\"No sol found.\")\n"
      ]
    },
    {
      "cell_type": "code",
      "source": [],
      "metadata": {
        "id": "ci-zX5ERZteW"
      },
      "execution_count": null,
      "outputs": []
    },
    {
      "cell_type": "code",
      "source": [
        "class BlockWorld:\n",
        "    def __init__(self, start, goal, depth_limit):\n",
        "        self.start = start\n",
        "        self.goal = goal\n",
        "        self.depth_limit = depth_limit\n",
        "\n",
        "    def is_goal(self, state):\n",
        "        return state == self.goal\n",
        "\n",
        "    def get_possible_moves(self, state):\n",
        "        moves = []\n",
        "        for i, stack in enumerate(state):\n",
        "            if stack:\n",
        "                new_state = [list(s) for s in state]\n",
        "                block = new_state[i].pop()\n",
        "                for j in range(len(state)):\n",
        "                    if i != j:\n",
        "                        temp_state = [list(s) for s in new_state]\n",
        "                        temp_state[j].append(block)\n",
        "                        moves.append(tuple(map(tuple, temp_state)))\n",
        "        return moves\n",
        "\n",
        "    def dls(self, state, depth, path=[]):\n",
        "        if depth > self.depth_limit:\n",
        "            return None\n",
        "\n",
        "        if self.is_goal(state):\n",
        "            return path + [state]\n",
        "\n",
        "        for move in self.get_possible_moves(state):\n",
        "            result = self.dls(move, depth + 1, path + [state])\n",
        "            if result:\n",
        "                return result\n",
        "\n",
        "        return None\n",
        "\n",
        "start_state = (('B',), ('A', 'C'), ())\n",
        "goal_state = ((), (), ('A', 'B', 'C'))\n",
        "depth_limit = 1\n",
        "\n",
        "solver = BlockWorld(start_state, goal_state, depth_limit)\n",
        "solution = solver.dls(start_state, 0)\n",
        "\n",
        "if solution:\n",
        "    print(\"Solution found within depth limit:\")\n",
        "    for step in solution:\n",
        "        print(step)\n",
        "else:\n",
        "    print(\"No solution found within depth limit. Search is incomplete.\")"
      ],
      "metadata": {
        "colab": {
          "base_uri": "https://localhost:8080/"
        },
        "id": "bMOFVLjkZnkv",
        "outputId": "b891a168-08bb-48b4-9685-2ec3f411b359"
      },
      "execution_count": null,
      "outputs": [
        {
          "output_type": "stream",
          "name": "stdout",
          "text": [
            "No solution found within depth limit. Search is incomplete.\n"
          ]
        }
      ]
    },
    {
      "cell_type": "code",
      "source": [
        "from collections import deque\n",
        "\n",
        "class BlockWorld:\n",
        "    def __init__(self, start, goal):\n",
        "        self.start, self.goal = start, goal\n",
        "\n",
        "    def is_goal(self, state):\n",
        "        return state == self.goal\n",
        "\n",
        "    def get_moves(self, state):\n",
        "        moves = []\n",
        "        for i, stack in enumerate(state):\n",
        "            if stack:\n",
        "                new_state = [list(s) for s in state]\n",
        "                block = new_state[i].pop()\n",
        "                for j in range(len(state)):\n",
        "                    if i != j:\n",
        "                        temp = [list(s) for s in new_state]\n",
        "                        temp[j].append(block)\n",
        "                        moves.append(tuple(map(tuple, temp)))\n",
        "        return moves\n",
        "\n",
        "    def dls(self, state, d, lim, path=[]):\n",
        "        if d > lim:\n",
        "            return None\n",
        "        if self.is_goal(state):\n",
        "            return path + [state]\n",
        "        for move in self.get_moves(state):\n",
        "            res = self.dls(move, d + 1, lim, path + [state])\n",
        "            if res:\n",
        "                return res\n",
        "        return None\n",
        "\n",
        "    def iddfs(self):\n",
        "        d = 0\n",
        "        while True:\n",
        "            res = self.dls(self.start, 0, d)\n",
        "            if res:\n",
        "                return d, res\n",
        "            d += 1\n",
        "\n",
        "start = (('A',), ('B', 'C'), ())\n",
        "goal = ((), (), ('A', 'B', 'C'))\n",
        "\n",
        "solver = BlockWorld(start, goal)\n",
        "depth, res = solver.iddfs()\n",
        "\n",
        "print(f\"Goal found at depth: {depth}\")\n",
        "for step in res:\n",
        "    print(step)\n"
      ],
      "metadata": {
        "colab": {
          "base_uri": "https://localhost:8080/"
        },
        "id": "0GiDp5ntZ7bC",
        "outputId": "eed7a058-b5dd-4333-f63a-e9abdd200bac"
      },
      "execution_count": null,
      "outputs": [
        {
          "output_type": "stream",
          "name": "stdout",
          "text": [
            "Goal found at depth: 4\n",
            "(('A',), ('B', 'C'), ())\n",
            "((), ('B', 'C'), ('A',))\n",
            "(('C',), ('B',), ('A',))\n",
            "(('C',), (), ('A', 'B'))\n",
            "((), (), ('A', 'B', 'C'))\n"
          ]
        }
      ]
    },
    {
      "cell_type": "code",
      "source": [
        "import heapq\n",
        "\n",
        "def ucs(graph, start, goal):\n",
        "    pq = [(0, start)]\n",
        "    seen = {}\n",
        "\n",
        "    while pq:\n",
        "        cost, node = heapq.heappop(pq)\n",
        "        if node in seen:\n",
        "            continue\n",
        "\n",
        "        seen[node] = cost\n",
        "        if node == goal:\n",
        "            return cost\n",
        "\n",
        "        for nbr, edge_cost in graph.get(node, []):\n",
        "            if nbr not in seen:\n",
        "                heapq.heappush(pq, (cost + edge_cost, nbr))\n",
        "\n",
        "    return float(\"inf\")\n",
        "\n",
        "graph = {\n",
        "    'S': [('B', 5), ('C', 15)],\n",
        "    'B': [('A', 1), ('G', 5)],\n",
        "    'A': [('G', 10)],\n",
        "    'C': [('G', 5)]\n",
        "}\n",
        "\n",
        "start, goal = 'S', 'G'\n",
        "res = ucs(graph, start, goal)\n",
        "print(f\"Min cost from {start} to {goal}: {res}\")\n"
      ],
      "metadata": {
        "colab": {
          "base_uri": "https://localhost:8080/"
        },
        "id": "3MObUmMsaIMf",
        "outputId": "df00b9f4-0661-497d-ddb9-e47f48e5b263"
      },
      "execution_count": null,
      "outputs": [
        {
          "output_type": "stream",
          "name": "stdout",
          "text": [
            "Min cost from S to G: 10\n"
          ]
        }
      ]
    }
  ]
}