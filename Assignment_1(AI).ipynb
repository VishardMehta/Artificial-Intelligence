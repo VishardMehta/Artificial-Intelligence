{
  "nbformat": 4,
  "nbformat_minor": 0,
  "metadata": {
    "colab": {
      "provenance": []
    },
    "kernelspec": {
      "name": "python3",
      "display_name": "Python 3"
    },
    "language_info": {
      "name": "python"
    }
  },
  "cells": [
    {
      "cell_type": "code",
      "execution_count": 3,
      "metadata": {
        "id": "kQC7to958hos",
        "colab": {
          "base_uri": "https://localhost:8080/"
        },
        "outputId": "cec3ab42-e9ca-4917-c9df-fb0d07457265"
      },
      "outputs": [
        {
          "output_type": "stream",
          "name": "stdout",
          "text": [
            "maths -> High: 92, Low: 34, Avg: 70.50\n",
            "sci -> High: 89, Low: 55, Avg: 72.50\n",
            "eng -> High: 85, Low: 56, Avg: 72.90\n",
            "it -> High: 95, Low: 60, Avg: 78.60\n",
            "Overall -> High: 95, Low: 34, Avg: 73.62\n"
          ]
        }
      ],
      "source": [
        "# Marks calc for 10 students, 4 tests (Maths, Sci, Eng, IT)\n",
        "import numpy as np\n",
        "\n",
        "marks = {\n",
        "    \"maths\": [45, 67, 89, 56, 90, 34, 78, 67, 87, 92],\n",
        "    \"sci\": [55, 77, 68, 59, 84, 72, 89, 60, 73, 88],\n",
        "    \"eng\": [70, 65, 85, 56, 79, 68, 75, 82, 69, 80],\n",
        "    \"it\": [88, 70, 60, 95, 80, 78, 85, 66, 90, 74],\n",
        "}\n",
        "\n",
        "# For each subj\n",
        "for subj, scores in marks.items():\n",
        "    print(f\"{subj} -> High: {max(scores)}, Low: {min(scores)}, Avg: {np.mean(scores):.2f}\")\n",
        "\n",
        "# Overall\n",
        "all_scores = sum(marks.values(), [])\n",
        "print(f\"Overall -> High: {max(all_scores)}, Low: {min(all_scores)}, Avg: {np.mean(all_scores):.2f}\")"
      ]
    },
    {
      "cell_type": "code",
      "source": [
        "# Gross salary calc\n",
        "basic = float(input(\"Enter basic salary: \"))\n",
        "\n",
        "if basic <= 10000:\n",
        "    hra, da = 0.2, 0.8\n",
        "elif basic <= 20000:\n",
        "    hra, da = 0.25, 0.9\n",
        "else:\n",
        "    hra, da = 0.3, 0.95\n",
        "\n",
        "gross_salary = basic + (hra * basic) + (da * basic)\n",
        "print(f\"Gross Salary: {gross_salary:.2f}\")"
      ],
      "metadata": {
        "id": "8d3_VOmvHZNb",
        "colab": {
          "base_uri": "https://localhost:8080/"
        },
        "outputId": "5f5c3ead-1d3f-4fa7-8c9f-48279cecc7cb"
      },
      "execution_count": 2,
      "outputs": [
        {
          "output_type": "stream",
          "name": "stdout",
          "text": [
            "Enter basic salary: 100000\n",
            "Gross Salary: 225000.00\n"
          ]
        }
      ]
    },
    {
      "cell_type": "code",
      "source": [
        "# Pw validation rules\n",
        "import re\n",
        "\n",
        "pw = input(\"Enter pw: \")\n",
        "if (6 <= len(pw) <= 16 and re.search(\"[a-z]\", pw) and re.search(\"[A-Z]\", pw) and\n",
        "    re.search(\"[0-9]\", pw) and re.search(\"[$#@]\", pw)):\n",
        "    print(\"Valid pw\")\n",
        "else:\n",
        "    print(\"Invalid pw\")"
      ],
      "metadata": {
        "id": "2ji-e0jUHanf",
        "colab": {
          "base_uri": "https://localhost:8080/"
        },
        "outputId": "787f6390-cc66-4a3f-ef57-d09bafed9e3a"
      },
      "execution_count": 5,
      "outputs": [
        {
          "output_type": "stream",
          "name": "stdout",
          "text": [
            "Enter pw: Mehta123#45\n",
            "Valid pw\n"
          ]
        }
      ]
    },
    {
      "cell_type": "code",
      "source": [
        "L = [10, 20, 30, 40, 50, 60, 70, 80]\n",
        "L += [200, 300]  # Adding\n",
        "L = [x for x in L if x not in [10, 30]]  # Removing\n",
        "print(f\"Asc: {sorted(L)}, Desc: {sorted(L, reverse=True)}\")  # Sorting"
      ],
      "metadata": {
        "id": "-vU5c0G4HeIw",
        "colab": {
          "base_uri": "https://localhost:8080/"
        },
        "outputId": "76e94325-91fd-42f4-be49-2184f076e984"
      },
      "execution_count": 6,
      "outputs": [
        {
          "output_type": "stream",
          "name": "stdout",
          "text": [
            "Asc: [20, 40, 50, 60, 70, 80, 200, 300], Desc: [300, 200, 80, 70, 60, 50, 40, 20]\n"
          ]
        }
      ]
    },
    {
      "cell_type": "code",
      "source": [
        "D = {1: \"One\", 2: \"Two\", 3: \"Three\", 4: \"Four\", 5: \"Five\"}\n",
        "D[6] = \"Six\"  # Add\n",
        "D.pop(2)  # Remove\n",
        "print(f\"6 present? {'Yes' if 6 in D else 'No'}\")\n",
        "print(f\"Count: {len(D)}, Sum: {''.join(D.values())}\")"
      ],
      "metadata": {
        "id": "ynYkVKz_Hh67",
        "colab": {
          "base_uri": "https://localhost:8080/"
        },
        "outputId": "2c47a772-cd1b-4813-fcc6-a6a475bd8d70"
      },
      "execution_count": 8,
      "outputs": [
        {
          "output_type": "stream",
          "name": "stdout",
          "text": [
            "6 present? Yes\n",
            "Count: 5, Sum: OneThreeFourFiveSix\n"
          ]
        }
      ]
    },
    {
      "cell_type": "code",
      "source": [
        "import random\n",
        "\n",
        "nums = [random.randint(100, 900) for _ in range(100)]\n",
        "odds = [n for n in nums if n % 2]\n",
        "evens = [n for n in nums if n % 2 == 0]\n",
        "primes = [n for n in nums if all(n % i != 0 for i in range(2, int(n**0.5) + 1)) and n > 1]\n",
        "\n",
        "print(f\"Odds: {len(odds)}, Evens: {len(evens)}, Primes: {len(primes)}\")"
      ],
      "metadata": {
        "id": "liBLVaPHHj25",
        "colab": {
          "base_uri": "https://localhost:8080/"
        },
        "outputId": "b30a170f-bfcc-4dba-ae0a-4d58ff38e408"
      },
      "execution_count": 9,
      "outputs": [
        {
          "output_type": "stream",
          "name": "stdout",
          "text": [
            "Odds: 49, Evens: 51, Primes: 16\n"
          ]
        }
      ]
    },
    {
      "cell_type": "code",
      "source": [
        "def comp_int(p, r, t):\n",
        "    return p * (1 + r / 100) ** t\n",
        "\n",
        "# Inputs\n",
        "p = float(input(\"Principal amount: \"))\n",
        "r = float(input(\"Interest rate (%): \"))\n",
        "t = float(input(\"Time (years): \"))\n",
        "\n",
        "print(comp_int(p, r, t))\n",
        "print(f\"{comp_int(p, r, t):.2f}\")"
      ],
      "metadata": {
        "id": "Brm0SWqqHmTL",
        "colab": {
          "base_uri": "https://localhost:8080/"
        },
        "outputId": "daa4eff9-6cb4-4a82-ee4b-dc92e33e7696"
      },
      "execution_count": 15,
      "outputs": [
        {
          "output_type": "stream",
          "name": "stdout",
          "text": [
            "Principal amount: 1500\n",
            "Interest rate (%): 10\n",
            "Time (years): 1\n",
            "1650.0000000000002\n",
            "1650.00\n"
          ]
        }
      ]
    },
    {
      "cell_type": "code",
      "source": [
        "class Restaurant:\n",
        "    def __init__(self, name, cuisine):\n",
        "        self.name = name\n",
        "        self.cuisine = cuisine\n",
        "\n",
        "    def describe_restaurant(self):\n",
        "        print(f\"{self.name} serves {self.cuisine}.\")\n",
        "\n",
        "    def open_restaurant(self):\n",
        "        print(f\"{self.name} is now open!\")\n",
        "\n",
        "r = Restaurant(\"Foodies\", \"Indian\")\n",
        "print(r.name, r.cuisine)\n",
        "r.describe_restaurant()\n",
        "r.open_restaurant()"
      ],
      "metadata": {
        "id": "hVfQhIc_HpGE",
        "colab": {
          "base_uri": "https://localhost:8080/"
        },
        "outputId": "0391e5aa-8f13-4cb8-8546-bca11bbc1f42"
      },
      "execution_count": 16,
      "outputs": [
        {
          "output_type": "stream",
          "name": "stdout",
          "text": [
            "Foodies Indian\n",
            "Foodies serves Indian.\n",
            "Foodies is now open!\n"
          ]
        }
      ]
    },
    {
      "cell_type": "code",
      "source": [
        "class User:\n",
        "    def __init__(self, fname, lname, age, location):\n",
        "        self.fname = fname\n",
        "        self.lname = lname\n",
        "        self.age = age\n",
        "        self.location = location\n",
        "\n",
        "    def describe_user(self):\n",
        "        print(f\"Name: {self.fname} {self.lname}, Age: {self.age}, Location: {self.location}\")\n",
        "\n",
        "    def greet_user(self):\n",
        "        print(f\"Hi {self.fname}, welcome back!\")\n",
        "\n",
        "u1 = User(\"John\", \"Doe\", 25, \"NYC\")\n",
        "u2 = User(\"Jane\", \"Smith\", 30, \"LA\")\n",
        "\n",
        "for u in [u1, u2]:\n",
        "    u.describe_user()\n",
        "    u.greet_user()"
      ],
      "metadata": {
        "id": "64Pf3xYMHp3T",
        "colab": {
          "base_uri": "https://localhost:8080/"
        },
        "outputId": "6050fdc8-7597-4273-9a81-c6e0b516cc0d"
      },
      "execution_count": 17,
      "outputs": [
        {
          "output_type": "stream",
          "name": "stdout",
          "text": [
            "Name: John Doe, Age: 25, Location: NYC\n",
            "Hi John, welcome back!\n",
            "Name: Jane Smith, Age: 30, Location: LA\n",
            "Hi Jane, welcome back!\n"
          ]
        }
      ]
    }
  ]
}